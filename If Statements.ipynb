{
 "cells": [
  {
   "cell_type": "code",
   "execution_count": 1,
   "metadata": {},
   "outputs": [],
   "source": [
    "## If kontrolleri eğer şu işlem olursa bunu yap olarak kullanılır."
   ]
  },
  {
   "cell_type": "code",
   "execution_count": 2,
   "metadata": {},
   "outputs": [
    {
     "name": "stdout",
     "output_type": "stream",
     "text": [
      "3 is greater than 2\n"
     ]
    }
   ],
   "source": [
    "if 3 > 2:\n",
    "    print(\"3 is greater than 2\")"
   ]
  },
  {
   "cell_type": "code",
   "execution_count": 10,
   "metadata": {},
   "outputs": [],
   "source": [
    "x = 4"
   ]
  },
  {
   "cell_type": "code",
   "execution_count": 11,
   "metadata": {},
   "outputs": [],
   "source": [
    "y = 4"
   ]
  },
  {
   "cell_type": "code",
   "execution_count": 14,
   "metadata": {},
   "outputs": [
    {
     "name": "stdout",
     "output_type": "stream",
     "text": [
      "X is Y\n"
     ]
    }
   ],
   "source": [
    "if x > y:\n",
    "    print(\"X is greater\")\n",
    "elif x == y:\n",
    "    print(\"X is Y\")\n",
    "else:\n",
    "    print(\"Y is greater\")"
   ]
  },
  {
   "cell_type": "code",
   "execution_count": 24,
   "metadata": {},
   "outputs": [
    {
     "name": "stdout",
     "output_type": "stream",
     "text": [
      "Superhero:aaaa\n"
     ]
    }
   ],
   "source": [
    "my_superhero = input(\"Superhero:\")"
   ]
  },
  {
   "cell_type": "code",
   "execution_count": 23,
   "metadata": {},
   "outputs": [
    {
     "name": "stdout",
     "output_type": "stream",
     "text": [
      "salla o zaman\n"
     ]
    }
   ],
   "source": [
    "if my_superhero == \"Superman\":\n",
    "    print(\"Supermaan\")\n",
    "if my_superhero == \"Ironman\":\n",
    "    print(\"Ironman\")\n",
    "if my_superhero == \"Heman\":\n",
    "    print(\"Hemaaan\")\n",
    "if my_superhero == \"Wonderman\":\n",
    "    print(\"Wondermaaan\")\n",
    "else:\n",
    "    print(\"salla o zaman\")"
   ]
  },
  {
   "cell_type": "code",
   "execution_count": 25,
   "metadata": {},
   "outputs": [
    {
     "name": "stdout",
     "output_type": "stream",
     "text": [
      ":(\n"
     ]
    }
   ],
   "source": [
    "if my_superhero == \"Batman\":\n",
    "    print(\"Batmaaan\")\n",
    "elif my_superhero == \"Superman\":\n",
    "    print(\"Supermaan\")\n",
    "elif my_superhero == \"Ironman\":\n",
    "    print(\"Ironman\")\n",
    "elif my_superhero == \"Heman\":\n",
    "    print(\"Hemaaan\")\n",
    "elif my_superhero == \"Wonderman\":\n",
    "    print(\"Wondermaaan\")\n",
    "else:\n",
    "    print(\":(\")"
   ]
  },
  {
   "cell_type": "code",
   "execution_count": 2,
   "metadata": {},
   "outputs": [],
   "source": [
    "a = 10"
   ]
  },
  {
   "cell_type": "code",
   "execution_count": 3,
   "metadata": {},
   "outputs": [],
   "source": [
    "b = 15"
   ]
  },
  {
   "cell_type": "code",
   "execution_count": 4,
   "metadata": {},
   "outputs": [],
   "source": [
    "c = 20"
   ]
  },
  {
   "cell_type": "code",
   "execution_count": 5,
   "metadata": {},
   "outputs": [
    {
     "name": "stdout",
     "output_type": "stream",
     "text": [
      "superman\n"
     ]
    }
   ],
   "source": [
    "if a > b or b < c:\n",
    "    print(\"superman\")\n",
    "elif a < b and b > c:\n",
    "    print(\"batman\")\n",
    "else:\n",
    "    print(\"kekoman\")"
   ]
  },
  {
   "cell_type": "code",
   "execution_count": 6,
   "metadata": {},
   "outputs": [],
   "source": [
    "isDead = False"
   ]
  },
  {
   "cell_type": "code",
   "execution_count": 9,
   "metadata": {},
   "outputs": [
    {
     "name": "stdout",
     "output_type": "stream",
     "text": [
      "Character is not Dead\n"
     ]
    }
   ],
   "source": [
    "if isDead == True:\n",
    "    print(\"Character is Dead\")  ##Boolean Kontrolü\n",
    "else:\n",
    "    print(\"Character is not Dead\")"
   ]
  },
  {
   "cell_type": "code",
   "execution_count": 8,
   "metadata": {},
   "outputs": [
    {
     "name": "stdout",
     "output_type": "stream",
     "text": [
      "Character is not Dead\n"
     ]
    }
   ],
   "source": [
    "if isDead:\n",
    "    print(\"Character is Dead\")\n",
    "else:\n",
    "    print(\"Character is not Dead\")"
   ]
  },
  {
   "cell_type": "code",
   "execution_count": 10,
   "metadata": {},
   "outputs": [
    {
     "name": "stdout",
     "output_type": "stream",
     "text": [
      "Character is not Dead\n"
     ]
    }
   ],
   "source": [
    "if not isDead:\n",
    "    print(\"Character is not Dead\")"
   ]
  },
  {
   "cell_type": "code",
   "execution_count": 12,
   "metadata": {},
   "outputs": [],
   "source": [
    "my_string = (\"Hello World\")"
   ]
  },
  {
   "cell_type": "code",
   "execution_count": 13,
   "metadata": {},
   "outputs": [
    {
     "name": "stdout",
     "output_type": "stream",
     "text": [
      "Equal\n"
     ]
    }
   ],
   "source": [
    "if my_string == (\"Hello World\"):\n",
    "    print(\"Equal\")"
   ]
  },
  {
   "cell_type": "code",
   "execution_count": 16,
   "metadata": {},
   "outputs": [
    {
     "name": "stdout",
     "output_type": "stream",
     "text": [
      "True\n"
     ]
    }
   ],
   "source": [
    "if \"Hello\" in my_string:\n",
    "    print(\"True\")\n",
    "else:\n",
    "    print(\"False\")"
   ]
  },
  {
   "cell_type": "code",
   "execution_count": 17,
   "metadata": {},
   "outputs": [],
   "source": [
    "my_list = [1,2,3,4,5]"
   ]
  },
  {
   "cell_type": "code",
   "execution_count": 19,
   "metadata": {},
   "outputs": [
    {
     "name": "stdout",
     "output_type": "stream",
     "text": [
      "true\n"
     ]
    }
   ],
   "source": [
    "if 2 in my_list:\n",
    "    print(\"true\")\n",
    "else:\n",
    "    print(\"false\")"
   ]
  },
  {
   "cell_type": "code",
   "execution_count": 20,
   "metadata": {},
   "outputs": [],
   "source": [
    "my_dictionary = {\"k1\": 100, \"k2\": 200, \"k3\": 300}"
   ]
  },
  {
   "cell_type": "code",
   "execution_count": 27,
   "metadata": {},
   "outputs": [
    {
     "name": "stdout",
     "output_type": "stream",
     "text": [
      "true\n"
     ]
    }
   ],
   "source": [
    "##Dict lerde key ve valur değerleri olduğundan hangisi içinde arama yapacak\n",
    "## isek o şekilde belirtmemiz lazım. .keys or .values\n",
    "\n",
    "if 100 in my_dictionary.values(): \n",
    "    print(\"true\") \n",
    "else:\n",
    "    print(\"false\")"
   ]
  },
  {
   "cell_type": "code",
   "execution_count": null,
   "metadata": {},
   "outputs": [],
   "source": []
  }
 ],
 "metadata": {
  "kernelspec": {
   "display_name": "Python 3",
   "language": "python",
   "name": "python3"
  },
  "language_info": {
   "codemirror_mode": {
    "name": "ipython",
    "version": 3
   },
   "file_extension": ".py",
   "mimetype": "text/x-python",
   "name": "python",
   "nbconvert_exporter": "python",
   "pygments_lexer": "ipython3",
   "version": "3.8.5"
  }
 },
 "nbformat": 4,
 "nbformat_minor": 4
}
