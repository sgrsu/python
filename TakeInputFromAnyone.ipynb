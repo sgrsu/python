{
 "cells": [
  {
   "cell_type": "code",
   "execution_count": 2,
   "metadata": {},
   "outputs": [
    {
     "name": "stdout",
     "output_type": "stream",
     "text": [
      "Lütfen bir sayı giriniz : 55\n"
     ]
    },
    {
     "data": {
      "text/plain": [
       "'55'"
      ]
     },
     "execution_count": 2,
     "metadata": {},
     "output_type": "execute_result"
    }
   ],
   "source": [
    "input(\"Lütfen bir sayı giriniz : \")"
   ]
  },
  {
   "cell_type": "code",
   "execution_count": 5,
   "metadata": {},
   "outputs": [
    {
     "name": "stdout",
     "output_type": "stream",
     "text": [
      "Lütfen bir sayı giriniz : 44\n",
      "Kullanıcının girdiği değer :  44\n"
     ]
    }
   ],
   "source": [
    "a = input(\"Lütfen bir sayı giriniz : \")\n",
    "print(\"Kullanıcının girdiği değer : \", a)"
   ]
  },
  {
   "cell_type": "code",
   "execution_count": 8,
   "metadata": {},
   "outputs": [
    {
     "name": "stdout",
     "output_type": "stream",
     "text": [
      "Lütfen bir sayı giriniz : 66\n",
      "198\n"
     ]
    }
   ],
   "source": [
    "a = input(\"Lütfen bir sayı giriniz : \") ## input dan dönen değer tipi string olduğu için tipini elle belirttik.\n",
    "print(int(a) * 3)"
   ]
  },
  {
   "cell_type": "code",
   "execution_count": 14,
   "metadata": {},
   "outputs": [
    {
     "name": "stdout",
     "output_type": "stream",
     "text": [
      "Birinci Sayı : 33\n",
      "İkinci Sayı  : 33\n",
      "Üçüncü Sayı  : 33\n",
      "Toplam       : 99\n"
     ]
    }
   ],
   "source": [
    "a = int(input(\"Birinci Sayı : \"))\n",
    "b = int(input(\"İkinci Sayı  : \"))\n",
    "c = int(input(\"Üçüncü Sayı  : \"))\n",
    "print(\"Toplam       :\" , a + b + c)"
   ]
  },
  {
   "cell_type": "code",
   "execution_count": null,
   "metadata": {},
   "outputs": [],
   "source": []
  }
 ],
 "metadata": {
  "kernelspec": {
   "display_name": "Python 3",
   "language": "python",
   "name": "python3"
  },
  "language_info": {
   "codemirror_mode": {
    "name": "ipython",
    "version": 3
   },
   "file_extension": ".py",
   "mimetype": "text/x-python",
   "name": "python",
   "nbconvert_exporter": "python",
   "pygments_lexer": "ipython3",
   "version": "3.8.5"
  }
 },
 "nbformat": 4,
 "nbformat_minor": 4
}
