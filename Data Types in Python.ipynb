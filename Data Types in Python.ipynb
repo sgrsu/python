{
 "cells": [
  {
   "cell_type": "raw",
   "metadata": {},
   "source": [
    "Data Types and Convertion\n",
    "\n",
    "\n",
    "###################################################################################################################\n",
    "##                                                                                                               ##\n",
    "##    int: Tam sayıları ifade eder 32 bit,± 2147483647 örnek olarak 105 tam sayısını gösterebiliriz.             ##\n",
    "##    long: Uzun tam sayıları ifade eder.                                                                        ##\n",
    "##    float: veri tipi ondalıklı bir gerçek sayıyı ifade edder. 64 bit uzunluğa ve hassasiyete sahiptir.         ##\n",
    "##       Örnek olarak 3.14159 rakamını paylaşabiliriz.                                                           ##\n",
    "##    str: Harf ya da rakam ve ya kombinasyonlarından oluşabilir string 'Ayşe 35 yaşında'                        ##\n",
    "##    bool: True, False değerlerini taşır özüne indiğimiz zaman esasında bir yada sıfır değerleri taşımaktadır.  ##\n",
    "##    list:                                                                                                      ##\n",
    "##    tuple: (3.2, 4.5, 6.3)                                                                                     ##\n",
    "##    dict: {‘one’: 1, ‘two’: 2}                                                                                 ##\n",
    "##    function lambda x:2*x                                                                                      ##\n",
    "##    builtin_function_ math.sqrt                                                                                ##\n",
    "##                                                                                                               ##\n",
    "###################################################################################################################"
   ]
  },
  {
   "cell_type": "code",
   "execution_count": 1,
   "metadata": {},
   "outputs": [],
   "source": [
    "#########################################################################################################################\n",
    "##                                                                                                                     ##\n",
    "##    int(x): Eğer x bir string ifadeyse int fonksiyonu bu ifadeyi tam sayıya dönüştürür.                              ##\n",
    "##    long(x): Eğer x bir string ve sayı türünden bir ifadeyse uzun tam sayı ifadeye dönüştürür.                       ##\n",
    "##    float(x): x değişkenin noktalı bir ifadeye dönüştürüp sayılar üzerinde daha hasasiyetli işlemler yapabilirsiniz. ##\n",
    "##    complex(x): Karmaşık bir sayı dönüşümü sağlar.                                                                   ##\n",
    "##    str(x): Bir x değişkenini string ifadeye dönüştürür.                                                             ##\n",
    "##    repr(x): Bir değişkenini strging ifadeye dönüştürür.                                                             ##\n",
    "##    eval(str): String bir ifade değerlendirir ve bir obje döndürür.                                                  ##\n",
    "##    tuple(s): Python Tuple veri tipine dönüştürür.                                                                   ##\n",
    "##    list(s): Python List veri tipine dönüştürür.                                                                     ##\n",
    "##    set(s): String ifadeyi set eder.                                                                                 ##\n",
    "##    dict(d): Python sözlük oluşturur. d (anahtar, değer) dizilerini bir dizi olmalıdır.                              ##\n",
    "##    frozenset(s): Dondurulmuş bir dizi dönüştürün.                                                                   ##                                                     \n",
    "##    chr(x): Bir tamsayıyı karaktere dönüştürür.                                                                      ##\n",
    "##    unichr(x): Bir tamsayıyı unicode olarak karaktere dönüştürür.                                                    ##\n",
    "##    ord(x): Tek bir karakteri tam sayıya dönüştürür.                                                                 ##\n",
    "##    hex(x): Tam sayıyı hex e dönüştürür.                                                                             ##\n",
    "##    oct(x): Bir tam sayıyı sekizlik yani octal diziye dönüştürür.                                                    ##\n",
    "##                                                                                                                     ##\n",
    "#########################################################################################################################"
   ]
  }
 ],
 "metadata": {
  "celltoolbar": "Raw Cell Format",
  "kernelspec": {
   "display_name": "Python 3",
   "language": "python",
   "name": "python3"
  },
  "language_info": {
   "codemirror_mode": {
    "name": "ipython",
    "version": 3
   },
   "file_extension": ".py",
   "mimetype": "text/x-python",
   "name": "python",
   "nbconvert_exporter": "python",
   "pygments_lexer": "ipython3",
   "version": "3.8.5"
  }
 },
 "nbformat": 4,
 "nbformat_minor": 4
}
